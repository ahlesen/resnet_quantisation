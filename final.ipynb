{
  "nbformat": 4,
  "nbformat_minor": 0,
  "metadata": {
    "colab": {
      "name": "final.ipynb",
      "provenance": [],
      "collapsed_sections": []
    },
    "kernelspec": {
      "name": "python3",
      "display_name": "Python 3"
    },
    "language_info": {
      "name": "python"
    },
    "accelerator": "GPU"
  },
  "cells": [
    {
      "cell_type": "code",
      "metadata": {
        "colab": {
          "base_uri": "https://localhost:8080/"
        },
        "id": "UP36KIKLlmtw",
        "outputId": "3951fecf-a1ca-441d-e2f9-2fee7b89adf7"
      },
      "source": [
        "from google.colab import drive\n",
        "\n",
        "drive.mount('/content/gdrive/')\n",
        "\n",
        "%cd gdrive/MyDrive/Отбор на работу/MIL Lab/"
      ],
      "execution_count": null,
      "outputs": [
        {
          "output_type": "stream",
          "text": [
            "Drive already mounted at /content/gdrive/; to attempt to forcibly remount, call drive.mount(\"/content/gdrive/\", force_remount=True).\n",
            "/content/gdrive/MyDrive/Отбор на работу/MIL Lab\n"
          ],
          "name": "stdout"
        }
      ]
    },
    {
      "cell_type": "markdown",
      "metadata": {
        "id": "fWTfvp-ul28K"
      },
      "source": [
        "# Тестовое задание\n",
        "Обучить ResNet20 на CIFAR10, реализовать метод квантизации и получить его результаты.\n",
        "\n",
        "\n",
        "### Рекомендуемые шаги для выполнения задания  \n",
        "**Шаг 1.** Ознакомиться с понятием Quantization.  \n",
        "\n",
        "На данном шаге предлагается разобраться с понятием Quantization и со стандартными техниками, как dynamic, static, post training и quantization aware quantization.\n",
        "\n",
        "**Шаг 2.** Скачать датасет CIFAR10.\n",
        "\n",
        "Необходимо скачать датасет CIFAR10 для последующих экспериментов.\n",
        "\n",
        "**Шаг 3.** Реализовать архитектуру ResNet20.\n",
        "\n",
        "На данном шаге предлагается реализовать известную архитектуру ResNet20 совместно с процедурой ее обучения (с поправкой на датасет CIFAR10).\n",
        "\n",
        "**Шаг 4.** Обучить ResNet20.  \n",
        "\n",
        "Нужно обучить реализованную архитектуру на скаченном датасете (точность сети должна быть не менее 90%).  \n",
        "\n",
        "**Шаг 5.** Применить готовые решения для post training quantization (далее PTQ).  \n",
        "\n",
        "Воспользоваться [Pytorch Quantization](https://pytorch.org/blog/introduction-to-quantization-on-pytorch/), а именно методом PTQ.\n",
        "> Квантовать к 16 и 8 битам. Квантовать уже обученную модель, которая была получена на шаге 4.\n",
        "\n",
        "**Шаг 6.** Реализовать PTQ.  \n",
        "\n",
        "На данном шаге предлагается реализовать самостоятельно метод PTQ. Данный метод в основном состоит из следующих 2-х шагов:  \n",
        "1. Собрать статистики тензоров весов (можно за одну итерацию) и статистики тензора активаций (необходимо несколько итераций).  \n",
        "2. Инициализируя scale_factor и offset согласно собранным статистикам квантовать сеть и получить результаты на тестовом датасете.  \n",
        "\n",
        "> Квантовать к 16, 8, 4 и 2 битам. Квантовать уже обученную модель, которая была получена на шаге 4.\n",
        "\n",
        "**Шаг 7.** Сравнение результатов.  \n",
        "\n",
        "Сравните результаты, полученные с помощью готового решения и реализованного Вами на шаге 6. Обратите внимание на результаты при квантовании сети реализованным методом к 4 и 2 битам. Сформулируйте выводы из проведенного анализа результатов. Предложите свои идеи, как можно улучшить текущие результаты.\n",
        "\n",
        "\n",
        "### Что будет оцениваться?\n",
        "1. Оформление кода на github.\n",
        "2. Оформление результатов.\n",
        "3. Структура репозитория.\n",
        "4. Соответствие решения тестовому заданию.\n",
        "5. Любые релевантные теме мысли, идеи и соображения.\n"
      ]
    },
    {
      "cell_type": "code",
      "metadata": {
        "id": "ujSBKgw7lrE-"
      },
      "source": [
        "import torch\n",
        "import torch.nn as nn\n",
        "\n",
        "from torchsummary import summary\n",
        "\n",
        "import numpy as np\n",
        "import random\n",
        "import os\n",
        "\n",
        "from model import *\n",
        "from data import *\n",
        "from train import *\n",
        "\n",
        "from tqdm import tqdm\n",
        "from IPython.display import clear_output\n",
        "import matplotlib.pyplot as plt\n",
        "%matplotlib inline"
      ],
      "execution_count": null,
      "outputs": []
    },
    {
      "cell_type": "code",
      "metadata": {
        "colab": {
          "base_uri": "https://localhost:8080/"
        },
        "id": "2KccQyUTl6eF",
        "outputId": "78953670-07d2-4411-97af-c423c4619604"
      },
      "source": [
        "device = torch.device(\"cuda\" if torch.cuda.is_available() else \"cpu\")\n",
        "if device == 'cpu':\n",
        "    print('cpu')\n",
        "else:\n",
        "    n_gpu = torch.cuda.device_count()\n",
        "    print(torch.cuda.get_device_name(0))"
      ],
      "execution_count": null,
      "outputs": [
        {
          "output_type": "stream",
          "text": [
            "Tesla T4\n"
          ],
          "name": "stdout"
        }
      ]
    },
    {
      "cell_type": "code",
      "metadata": {
        "id": "Hi3te_A0l8Ug"
      },
      "source": [
        "RANDOM_SEED = 1712\n",
        "    \n",
        "init_random_seed(value=RANDOM_SEED)"
      ],
      "execution_count": null,
      "outputs": []
    },
    {
      "cell_type": "markdown",
      "metadata": {
        "id": "5P_cu85JNbS_"
      },
      "source": [
        "**Шаг 2.** Скачать датасет CIFAR10.\n",
        "\n",
        "Необходимо скачать датасет CIFAR10 для последующих экспериментов."
      ]
    },
    {
      "cell_type": "code",
      "metadata": {
        "colab": {
          "base_uri": "https://localhost:8080/"
        },
        "id": "B59Br-OdXHKf",
        "outputId": "036628f3-b01d-4e70-a145-43764169270d"
      },
      "source": [
        "loader_train, loader_test = get_data()"
      ],
      "execution_count": null,
      "outputs": [
        {
          "output_type": "stream",
          "text": [
            "Files already downloaded and verified\n",
            "Files already downloaded and verified\n"
          ],
          "name": "stdout"
        }
      ]
    },
    {
      "cell_type": "code",
      "metadata": {
        "colab": {
          "base_uri": "https://localhost:8080/"
        },
        "id": "bGVqRh7M15-a",
        "outputId": "d11d6e80-13e2-4e2f-92d5-5a94792ba18c"
      },
      "source": [
        "loader_train.dataset.data.shape"
      ],
      "execution_count": null,
      "outputs": [
        {
          "output_type": "execute_result",
          "data": {
            "text/plain": [
              "(50000, 32, 32, 3)"
            ]
          },
          "metadata": {},
          "execution_count": 6
        }
      ]
    },
    {
      "cell_type": "code",
      "metadata": {
        "colab": {
          "base_uri": "https://localhost:8080/"
        },
        "id": "5B8u__ZVXhJ5",
        "outputId": "e9eca52b-3a84-40ab-fbff-fea33d71bfd7"
      },
      "source": [
        "loader_test.dataset.data.shape"
      ],
      "execution_count": null,
      "outputs": [
        {
          "output_type": "execute_result",
          "data": {
            "text/plain": [
              "(10000, 32, 32, 3)"
            ]
          },
          "metadata": {},
          "execution_count": 7
        }
      ]
    },
    {
      "cell_type": "markdown",
      "metadata": {
        "id": "FscsHooXNbS_"
      },
      "source": [
        "**Шаг 3.** Реализовать архитектуру ResNet20.\n",
        "\n",
        "На данном шаге предлагается реализовать известную архитектуру ResNet20 совместно с процедурой ее обучения (с поправкой на датасет CIFAR10)."
      ]
    },
    {
      "cell_type": "code",
      "metadata": {
        "id": "wWiYPP2lNbTA"
      },
      "source": [
        "resnet20 = ResNet(BasicBlock, [3, 3, 3])"
      ],
      "execution_count": null,
      "outputs": []
    },
    {
      "cell_type": "code",
      "metadata": {
        "colab": {
          "base_uri": "https://localhost:8080/"
        },
        "id": "cBaDQhjF2wtH",
        "outputId": "e4613dca-4dc9-4da8-974b-b48b6986d284"
      },
      "source": [
        "summary(resnet20.to(device), (3, 32, 32))"
      ],
      "execution_count": null,
      "outputs": [
        {
          "output_type": "stream",
          "text": [
            "----------------------------------------------------------------\n",
            "        Layer (type)               Output Shape         Param #\n",
            "================================================================\n",
            "            Conv2d-1           [-1, 16, 32, 32]             432\n",
            "       BatchNorm2d-2           [-1, 16, 32, 32]              32\n",
            "            Conv2d-3           [-1, 16, 32, 32]           2,304\n",
            "       BatchNorm2d-4           [-1, 16, 32, 32]              32\n",
            "            Conv2d-5           [-1, 16, 32, 32]           2,304\n",
            "       BatchNorm2d-6           [-1, 16, 32, 32]              32\n",
            "        BasicBlock-7           [-1, 16, 32, 32]               0\n",
            "            Conv2d-8           [-1, 16, 32, 32]           2,304\n",
            "       BatchNorm2d-9           [-1, 16, 32, 32]              32\n",
            "           Conv2d-10           [-1, 16, 32, 32]           2,304\n",
            "      BatchNorm2d-11           [-1, 16, 32, 32]              32\n",
            "       BasicBlock-12           [-1, 16, 32, 32]               0\n",
            "           Conv2d-13           [-1, 16, 32, 32]           2,304\n",
            "      BatchNorm2d-14           [-1, 16, 32, 32]              32\n",
            "           Conv2d-15           [-1, 16, 32, 32]           2,304\n",
            "      BatchNorm2d-16           [-1, 16, 32, 32]              32\n",
            "       BasicBlock-17           [-1, 16, 32, 32]               0\n",
            "           Conv2d-18           [-1, 32, 16, 16]           4,608\n",
            "      BatchNorm2d-19           [-1, 32, 16, 16]              64\n",
            "           Conv2d-20           [-1, 32, 16, 16]           9,216\n",
            "      BatchNorm2d-21           [-1, 32, 16, 16]              64\n",
            "           Conv2d-22           [-1, 32, 16, 16]             512\n",
            "      BatchNorm2d-23           [-1, 32, 16, 16]              64\n",
            "       BasicBlock-24           [-1, 32, 16, 16]               0\n",
            "           Conv2d-25           [-1, 32, 16, 16]           9,216\n",
            "      BatchNorm2d-26           [-1, 32, 16, 16]              64\n",
            "           Conv2d-27           [-1, 32, 16, 16]           9,216\n",
            "      BatchNorm2d-28           [-1, 32, 16, 16]              64\n",
            "       BasicBlock-29           [-1, 32, 16, 16]               0\n",
            "           Conv2d-30           [-1, 32, 16, 16]           9,216\n",
            "      BatchNorm2d-31           [-1, 32, 16, 16]              64\n",
            "           Conv2d-32           [-1, 32, 16, 16]           9,216\n",
            "      BatchNorm2d-33           [-1, 32, 16, 16]              64\n",
            "       BasicBlock-34           [-1, 32, 16, 16]               0\n",
            "           Conv2d-35             [-1, 64, 8, 8]          18,432\n",
            "      BatchNorm2d-36             [-1, 64, 8, 8]             128\n",
            "           Conv2d-37             [-1, 64, 8, 8]          36,864\n",
            "      BatchNorm2d-38             [-1, 64, 8, 8]             128\n",
            "           Conv2d-39             [-1, 64, 8, 8]           2,048\n",
            "      BatchNorm2d-40             [-1, 64, 8, 8]             128\n",
            "       BasicBlock-41             [-1, 64, 8, 8]               0\n",
            "           Conv2d-42             [-1, 64, 8, 8]          36,864\n",
            "      BatchNorm2d-43             [-1, 64, 8, 8]             128\n",
            "           Conv2d-44             [-1, 64, 8, 8]          36,864\n",
            "      BatchNorm2d-45             [-1, 64, 8, 8]             128\n",
            "       BasicBlock-46             [-1, 64, 8, 8]               0\n",
            "           Conv2d-47             [-1, 64, 8, 8]          36,864\n",
            "      BatchNorm2d-48             [-1, 64, 8, 8]             128\n",
            "           Conv2d-49             [-1, 64, 8, 8]          36,864\n",
            "      BatchNorm2d-50             [-1, 64, 8, 8]             128\n",
            "       BasicBlock-51             [-1, 64, 8, 8]               0\n",
            "           Linear-52                   [-1, 10]             650\n",
            "================================================================\n",
            "Total params: 272,474\n",
            "Trainable params: 272,474\n",
            "Non-trainable params: 0\n",
            "----------------------------------------------------------------\n",
            "Input size (MB): 0.01\n",
            "Forward/backward pass size (MB): 3.72\n",
            "Params size (MB): 1.04\n",
            "Estimated Total Size (MB): 4.77\n",
            "----------------------------------------------------------------\n"
          ],
          "name": "stdout"
        }
      ]
    },
    {
      "cell_type": "markdown",
      "metadata": {
        "id": "sKw05zabNbTA"
      },
      "source": [
        "**Шаг 4.** Обучить ResNet20.  \n",
        "\n",
        "Нужно обучить реализованную архитектуру на скаченном датасете (точность сети должна быть не менее 90%).  "
      ]
    },
    {
      "cell_type": "code",
      "metadata": {
        "id": "y6Wp9VhW4BtZ"
      },
      "source": [
        "# Hyper-parameters\n",
        "num_epochs = 200\n",
        "learning_rate = 1e-2"
      ],
      "execution_count": null,
      "outputs": []
    },
    {
      "cell_type": "code",
      "metadata": {
        "id": "quLstqoKNbTA"
      },
      "source": [
        "# Loss and optimizer\n",
        "criterion = nn.CrossEntropyLoss()\n",
        "\n",
        "optimizer = optim.SGD(resnet20.parameters(), lr=learning_rate,\n",
        "                      momentum=0.9, weight_decay=5e-4)\n",
        "scheduler = torch.optim.lr_scheduler.CosineAnnealingLR(optimizer, T_max=200)"
      ],
      "execution_count": null,
      "outputs": []
    },
    {
      "cell_type": "code",
      "metadata": {
        "colab": {
          "base_uri": "https://localhost:8080/",
          "height": 778
        },
        "id": "AxWtStIn4GsU",
        "outputId": "c086d8fe-888c-4a98-ed3d-3ae0259962a5"
      },
      "source": [
        "train_model(resnet20, num_epochs, criterion, optimizer, scheduler, loader_train, loader_test, device, with_plt=True)"
      ],
      "execution_count": null,
      "outputs": [
        {
          "output_type": "stream",
          "text": [
            "train_loss: 0.015\n",
            "  val_loss: 0.361\n",
            "Accuracy of the resnet20 on the train images: 99.7\n",
            "Accuracy of the resnet20 on the val images: 90.9\n"
          ],
          "name": "stdout"
        },
        {
          "output_type": "display_data",
          "data": {
            "image/png": "[encoded data removed]",
            "text/plain": [
              "<Figure size 1008x864 with 2 Axes>"
            ]
          },
          "metadata": {
            "needs_background": "light"
          }
        }
      ]
    },
    {
      "cell_type": "markdown",
      "metadata": {
        "id": "iZ9GoWC-f-j9"
      },
      "source": [
        "Check trained model"
      ]
    },
    {
      "cell_type": "code",
      "metadata": {
        "colab": {
          "base_uri": "https://localhost:8080/"
        },
        "id": "bnlOcboGfUsK",
        "outputId": "4c71d4ba-5260-4ff3-b35f-df3d2a471d6b"
      },
      "source": [
        "resnet20.load_state_dict(torch.load('lr_0.01_SGD_NEW__epoch_150_91.02_resnet20.ckpt'))"
      ],
      "execution_count": null,
      "outputs": [
        {
          "output_type": "execute_result",
          "data": {
            "text/plain": [
              "<All keys matched successfully>"
            ]
          },
          "metadata": {},
          "execution_count": 15
        }
      ]
    },
    {
      "cell_type": "code",
      "metadata": {
        "colab": {
          "base_uri": "https://localhost:8080/"
        },
        "id": "o9-fEwg9GitS",
        "outputId": "325e4e83-4e80-4623-f73d-d92af99ec859"
      },
      "source": [
        "testing(resnet20, loader_train, name='Train')\n",
        "testing(resnet20, loader_test, name='Test')"
      ],
      "execution_count": null,
      "outputs": [
        {
          "output_type": "stream",
          "text": [
            "Accuracy of the model on the Train images: 99.544 %\n",
            "Accuracy of the model on the Test images: 91.02 %\n"
          ],
          "name": "stdout"
        }
      ]
    },
    {
      "cell_type": "markdown",
      "metadata": {
        "id": "Szm7nvkqNbTB"
      },
      "source": [
        "\n",
        "**Шаг 5.** Применить готовые решения для post training quantization (далее PTQ). \n",
        "\n",
        "Воспользоваться [Pytorch Quantization](https://pytorch.org/blog/introduction-to-quantization-on-pytorch/), а именно методом PTQ.\n",
        "> Квантовать к 16 и 8 битам. Квантовать уже обученную модель, которая была получена на шаге 4."
      ]
    },
    {
      "cell_type": "code",
      "metadata": {
        "id": "8KKzJVm457fB",
        "colab": {
          "base_uri": "https://localhost:8080/"
        },
        "outputId": "a862a932-18e1-4b23-9373-a7b3f56ded07"
      },
      "source": [
        "resnet20_PTQ = PTQResNet(PTQBasicBlock, [3, 3, 3]).to('cpu')\n",
        "resnet20_PTQ.load_state_dict(torch.load('lr_0.01_SGD_NEW__epoch_150_91.02_resnet20.ckpt'))\n",
        "resnet20_PTQ.eval()\n",
        "print(1)"
      ],
      "execution_count": null,
      "outputs": [
        {
          "output_type": "stream",
          "text": [
            "1\n"
          ],
          "name": "stdout"
        }
      ]
    },
    {
      "cell_type": "code",
      "metadata": {
        "id": "xLiakmXw4qxK"
      },
      "source": [
        "# Fuse the model in place rather manually.\n",
        "resnet20_PTQ = torch.quantization.fuse_modules(resnet20_PTQ, [[\"conv1\", \"bn1\"]], inplace=True)\n",
        "for module_name, module in resnet20_PTQ.named_children():\n",
        "    if \"layer\" in module_name:\n",
        "        for basic_block_name, basic_block in module.named_children():\n",
        "            torch.quantization.fuse_modules(basic_block, [[\"conv1\", \"bn1\"], [\"conv2\", \"bn2\"]], inplace=True)\n",
        "            for sub_block_name, sub_block in basic_block.named_children():\n",
        "                if sub_block_name == \"shortcut\":\n",
        "                    torch.quantization.fuse_modules(sub_block, [[\"0\", \"1\"]], inplace=True)\n"
      ],
      "execution_count": null,
      "outputs": []
    },
    {
      "cell_type": "code",
      "metadata": {
        "colab": {
          "base_uri": "https://localhost:8080/"
        },
        "id": "GiDENBkjm2ky",
        "outputId": "cfe67c3b-a710-4c1c-e61a-8884794baf2f"
      },
      "source": [
        "resnet20_PTQ.qconfig = torch.quantization.get_default_qconfig('fbgemm')\n",
        "torch.quantization.prepare(resnet20_PTQ, inplace=True)\n",
        "resnet20_PTQ.eval()\n",
        "\n",
        "for i, (images, labels) in tqdm(enumerate(loader_train)):\n",
        "    images = images.to('cpu')\n",
        "    resnet20_PTQ(images)\n",
        "torch.quantization.convert(resnet20_PTQ, inplace=True)\n",
        "print(2)"
      ],
      "execution_count": null,
      "outputs": [
        {
          "output_type": "stream",
          "text": [
            "/usr/local/lib/python3.7/dist-packages/torch/quantization/observer.py:124: UserWarning: Please use quant_min and quant_max to specify the range for observers.                     reduce_range will be deprecated in a future release of PyTorch.\n",
            "  reduce_range will be deprecated in a future release of PyTorch.\"\n",
            "391it [02:12,  2.96it/s]\n",
            "/usr/local/lib/python3.7/dist-packages/torch/_tensor.py:575: UserWarning: floor_divide is deprecated, and will be removed in a future version of pytorch. It currently rounds toward 0 (like the 'trunc' function NOT 'floor'). This results in incorrect rounding for negative values.\n",
            "To keep the current behavior, use torch.div(a, b, rounding_mode='trunc'), or for actual floor division, use torch.div(a, b, rounding_mode='floor'). (Triggered internally at  /pytorch/aten/src/ATen/native/BinaryOps.cpp:467.)\n",
            "  return torch.floor_divide(self, other)\n"
          ],
          "name": "stderr"
        },
        {
          "output_type": "stream",
          "text": [
            "2\n"
          ],
          "name": "stdout"
        }
      ]
    },
    {
      "cell_type": "code",
      "metadata": {
        "id": "IlSee8o91JZ9"
      },
      "source": [
        "def print_size_of_model(model, name='model'):\n",
        "    torch.save(model.state_dict(), \"temp.p\")\n",
        "    size=os.path.getsize(\"temp.p\")\n",
        "    print(f'Size of {name} (MB): {size/1e6} ')\n",
        "    os.remove('temp.p')"
      ],
      "execution_count": null,
      "outputs": []
    },
    {
      "cell_type": "code",
      "metadata": {
        "colab": {
          "base_uri": "https://localhost:8080/"
        },
        "id": "PSnuYvZ7q_Tp",
        "outputId": "1a4547a6-1dc5-46a5-d773-3ccafb139d24"
      },
      "source": [
        "%%time\n",
        "print_size_of_model(resnet20,'original resnet20')\n",
        "testing(resnet20.to('cpu'), loader_test, name='Test',device='cpu')"
      ],
      "execution_count": null,
      "outputs": [
        {
          "output_type": "stream",
          "text": [
            "Size of original resnet20 (MB): 1.135489 \n",
            "Accuracy of the model on the Test images: 91.02 %\n",
            "CPU times: user 15.2 s, sys: 1.1 s, total: 16.3 s\n",
            "Wall time: 16.2 s\n"
          ],
          "name": "stdout"
        }
      ]
    },
    {
      "cell_type": "code",
      "metadata": {
        "colab": {
          "base_uri": "https://localhost:8080/"
        },
        "id": "Kszwmqczqm8K",
        "outputId": "de5b7380-4284-4cb3-d876-f7621e815182"
      },
      "source": [
        "%%time\n",
        "print_size_of_model(resnet20_PTQ,'original resnet20_PTQ')\n",
        "testing(resnet20_PTQ, loader_test, name='Test',device='cpu')"
      ],
      "execution_count": null,
      "outputs": [
        {
          "output_type": "stream",
          "text": [
            "Size of original resnet20_PTQ (MB): 0.332241 \n",
            "Accuracy of the model on the Test images: 90.59 %\n",
            "CPU times: user 16.2 s, sys: 664 ms, total: 16.8 s\n",
            "Wall time: 16.8 s\n"
          ],
          "name": "stdout"
        }
      ]
    },
    {
      "cell_type": "markdown",
      "metadata": {
        "id": "TpNun4PPNbTC"
      },
      "source": [
        "**Шаг 6.** Реализовать PTQ.  \n",
        "\n",
        "На данном шаге предлагается реализовать самостоятельно метод PTQ. Данный метод в основном состоит из следующих 2-х шагов:  \n",
        "1. Собрать статистики тензоров весов (можно за одну итерацию) и статистики тензора активаций (необходимо несколько итераций).  \n",
        "2. Инициализируя scale_factor и offset согласно собранным статистикам квантовать сеть и получить результаты на тестовом датасете.  \n",
        "\n",
        "> Квантовать к 16, 8, 4 и 2 битам. Квантовать уже обученную модель, которая была получена на шаге 4.\n"
      ]
    },
    {
      "cell_type": "markdown",
      "metadata": {
        "id": "th0ocygI45GP"
      },
      "source": [
        "данный шаг будет сделан в ближайшее время по следующему [туториалу](https://karanbirchahal.medium.com/how-to-quantise-an-mnist-network-to-8-bits-in-pytorch-no-retraining-required-from-scratch-39f634ac8459)"
      ]
    },
    {
      "cell_type": "code",
      "metadata": {
        "colab": {
          "background_save": true
        },
        "id": "w3RAqHq8NbTC"
      },
      "source": [
        ""
      ],
      "execution_count": null,
      "outputs": []
    },
    {
      "cell_type": "markdown",
      "metadata": {
        "id": "c5vyjqhnNbTC"
      },
      "source": [
        "**Шаг 7.** Сравнение результатов.  \n",
        "\n",
        "Сравните результаты, полученные с помощью готового решения и реализованного Вами на шаге 6. Обратите внимание на результаты при квантовании сети реализованным методом к 4 и 2 битам. Сформулируйте выводы из проведенного анализа результатов. Предложите свои идеи, как можно улучшить текущие результаты."
      ]
    },
    {
      "cell_type": "code",
      "metadata": {
        "colab": {
          "background_save": true
        },
        "id": "0BTHWhwwNbTC"
      },
      "source": [
        ""
      ],
      "execution_count": null,
      "outputs": []
    }
  ]
}